{
 "cells": [
  {
   "cell_type": "code",
   "execution_count": 3,
   "metadata": {},
   "outputs": [
    {
     "data": {
      "text/plain": [
       "0"
      ]
     },
     "execution_count": 3,
     "metadata": {},
     "output_type": "execute_result"
    }
   ],
   "source": [
    "import os \n",
    "os.system('python -m  PyInstaller main.py --name 4')"
   ]
  },
  {
   "cell_type": "code",
   "execution_count": 23,
   "metadata": {},
   "outputs": [],
   "source": [
    "import pandas as pd\n",
    "import numpy as np\n",
    "import random\n",
    "import os\n",
    "\n",
    "# Crear el dataframe\n",
    "df = pd.DataFrame(columns=[\"Profundidad\"] + [\"Gen\" + str(i) for i in range(1, 13)] + ['centroid',\"Generación\", \"Puntuación\", \"Nombre\"])\n",
    "def generate_initial_parents(df):\n",
    "    # Bucle for de 5 iteraciones\n",
    "    for i in range(15,20):\n",
    "        # Generar un gen de \"profundidad\"\n",
    "        profundidad = random.randint(1, 6)\n",
    "        \n",
    "        # Generar un cromosoma de 12 valores aleatorios\n",
    "        cromosoma = [\n",
    "            random.choice([0, 1]),\n",
    "            random.randint(2, 5),\n",
    "            random.randint(10, 25),\n",
    "            random.randint(50, 150),\n",
    "            random.randint(250, 750),\n",
    "            1000000000,\n",
    "            random.choice([0, 1]),\n",
    "            random.randint(2, 5),\n",
    "            random.randint(10, 25),\n",
    "            random.randint(50, 150),\n",
    "            random.randint(250, 750),\n",
    "            random.randint(600, 1000),\n",
    "            round(random.uniform(0.25, 1.5), 2) # gen 12\n",
    "        ]\n",
    "        \n",
    "        # Mostrar la línea que se va a guardar en el archivo\n",
    "        linea_a_guardar = str(profundidad) + \"\\n\" + \"\\n\".join([str(valor) for valor in cromosoma])\n",
    "        \n",
    "        # Escribir la profundidad y el cromosoma en un archivo\n",
    "        with open(\"cromosoma.txt\", \"w\") as f:\n",
    "            f.write(linea_a_guardar)\n",
    "        os.system(f'python -m  PyInstaller main.py --name {i}')          \n",
    "        # Borrar el archivo para la siguiente iteración\n",
    "        os.remove(\"cromosoma.txt\")     \n",
    "        \n",
    "        # Aquí iría el código de la función `defensive_evaluate_state` que proporcionaste.\n",
    "        \n",
    "        # Guardar el gen de profundidad y el cromosoma en el dataframe\n",
    "        data = [profundidad] + cromosoma +  [i+1, 0, \"Nombre\" + str(i+1)]\n",
    "        df.loc[i] = data\n",
    "    return df\n",
    "df=generate_initial_parents(df)"
   ]
  },
  {
   "cell_type": "code",
   "execution_count": 1,
   "metadata": {},
   "outputs": [
    {
     "ename": "NameError",
     "evalue": "name 'df' is not defined",
     "output_type": "error",
     "traceback": [
      "\u001b[1;31m---------------------------------------------------------------------------\u001b[0m",
      "\u001b[1;31mNameError\u001b[0m                                 Traceback (most recent call last)",
      "\u001b[1;32mc:\\Users\\mario\\OneDrive\\Documentos\\MIA\\TIA\\Connect6_prg\\genetic_tournament.ipynb Cell 3\u001b[0m line \u001b[0;36m1\n\u001b[1;32m----> <a href='vscode-notebook-cell:/c%3A/Users/mario/OneDrive/Documentos/MIA/TIA/Connect6_prg/genetic_tournament.ipynb#W2sZmlsZQ%3D%3D?line=0'>1</a>\u001b[0m df\n",
      "\u001b[1;31mNameError\u001b[0m: name 'df' is not defined"
     ]
    }
   ],
   "source": [
    "df"
   ]
  },
  {
   "cell_type": "code",
   "execution_count": 49,
   "metadata": {},
   "outputs": [
    {
     "data": {
      "text/plain": [
       "[<GUI.tournament.BotPlayer at 0x1d1b300af80>,\n",
       " <GUI.tournament.BotPlayer at 0x1d1b3009ea0>,\n",
       " <GUI.tournament.BotPlayer at 0x1d1b300b340>,\n",
       " <GUI.tournament.BotPlayer at 0x1d1b3151360>]"
      ]
     },
     "execution_count": 49,
     "metadata": {},
     "output_type": "execute_result"
    }
   ],
   "source": [
    "from GUI import tournament\n",
    "player_1=tournament.BotPlayer()\n",
    "player_1.path='dist/16/16.exe'\n",
    "player_2=tournament.BotPlayer()\n",
    "player_2.path='dist/17/17.exe'\n",
    "player_3=tournament.BotPlayer()\n",
    "player_3.path = 'dist/18/18.exe'\n",
    "player_4=tournament.BotPlayer()\n",
    "player_4.path = 'dist/19/19.exe'\n",
    "\n",
    "players = [player_1, player_2, player_3, player_4]\n",
    "players"
   ]
  },
  {
   "cell_type": "code",
   "execution_count": 64,
   "metadata": {},
   "outputs": [
    {
     "ename": "AttributeError",
     "evalue": "'Game' object has no attribute 'init'",
     "output_type": "error",
     "traceback": [
      "\u001b[1;31m---------------------------------------------------------------------------\u001b[0m",
      "\u001b[1;31mAttributeError\u001b[0m                            Traceback (most recent call last)",
      "\u001b[1;32mc:\\Users\\mario\\OneDrive\\Documentos\\MIA\\TIA\\Connect6_prg\\genetic_tournament.ipynb Cell 5\u001b[0m line \u001b[0;36m7\n\u001b[0;32m      <a href='vscode-notebook-cell:/c%3A/Users/mario/OneDrive/Documentos/MIA/TIA/Connect6_prg/genetic_tournament.ipynb#W4sZmlsZQ%3D%3D?line=4'>5</a>\u001b[0m roundrobin\u001b[39m.\u001b[39madd_player(player_4)\n\u001b[0;32m      <a href='vscode-notebook-cell:/c%3A/Users/mario/OneDrive/Documentos/MIA/TIA/Connect6_prg/genetic_tournament.ipynb#W4sZmlsZQ%3D%3D?line=5'>6</a>\u001b[0m roundrobin\u001b[39m.\u001b[39mgenerate_games()\n\u001b[1;32m----> <a href='vscode-notebook-cell:/c%3A/Users/mario/OneDrive/Documentos/MIA/TIA/Connect6_prg/genetic_tournament.ipynb#W4sZmlsZQ%3D%3D?line=6'>7</a>\u001b[0m roundrobin\u001b[39m.\u001b[39;49mgames[\u001b[39m1\u001b[39;49m]\u001b[39m.\u001b[39;49minit()\n",
      "\u001b[1;31mAttributeError\u001b[0m: 'Game' object has no attribute 'init'"
     ]
    }
   ],
   "source": [
    "roundrobin=tournament.RoundRobinTournament(2)\n",
    "roundrobin.add_player(player_1)\n",
    "roundrobin.add_player(player_2)\n",
    "roundrobin.add_player(player_3)\n",
    "roundrobin.add_player(player_4)\n",
    "roundrobin.generate_games()\n",
    "roundrobin.games[1].init()"
   ]
  },
  {
   "cell_type": "code",
   "execution_count": null,
   "metadata": {},
   "outputs": [],
   "source": []
  }
 ],
 "metadata": {
  "kernelspec": {
   "display_name": "TIA",
   "language": "python",
   "name": "python3"
  },
  "language_info": {
   "codemirror_mode": {
    "name": "ipython",
    "version": 3
   },
   "file_extension": ".py",
   "mimetype": "text/x-python",
   "name": "python",
   "nbconvert_exporter": "python",
   "pygments_lexer": "ipython3",
   "version": "3.10.13"
  }
 },
 "nbformat": 4,
 "nbformat_minor": 2
}
